{
 "cells": [
  {
   "cell_type": "code",
   "execution_count": 1,
   "metadata": {},
   "outputs": [],
   "source": [
    "\n",
    "import requests,time,random,datetime,uuid\n",
    "from pptx import Presentation\n",
    "from pptx.util import Inches"
   ]
  },
  {
   "cell_type": "code",
   "execution_count": 2,
   "metadata": {},
   "outputs": [],
   "source": [
    "import urllib.request"
   ]
  },
  {
   "cell_type": "code",
   "execution_count": 3,
   "metadata": {},
   "outputs": [],
   "source": [
    "from bs4 import BeautifulSoup\n",
    "from selenium import webdriver"
   ]
  },
  {
   "cell_type": "code",
   "execution_count": 4,
   "metadata": {},
   "outputs": [],
   "source": [
    "browser=webdriver.Chrome('driver/chromedriver.exe')"
   ]
  },
  {
   "cell_type": "markdown",
   "metadata": {},
   "source": [
    "# Actual code"
   ]
  },
  {
   "cell_type": "code",
   "execution_count": 5,
   "metadata": {},
   "outputs": [],
   "source": [
    "browser.get('https://teams.microsoft.com/')\n",
    "\n"
   ]
  },
  {
   "cell_type": "code",
   "execution_count": 6,
   "metadata": {},
   "outputs": [
    {
     "data": {
      "text/plain": [
       "<selenium.webdriver.remote.webelement.WebElement (session=\"1f76e36fb798180b19ddf5bc3824e819\", element=\"29d6b641-e24c-44aa-9fea-bf8bd5f5906d\")>"
      ]
     },
     "execution_count": 6,
     "metadata": {},
     "output_type": "execute_result"
    }
   ],
   "source": [
    "username=browser.find_element_by_name('loginfmt')\n",
    "\n",
    "username"
   ]
  },
  {
   "cell_type": "code",
   "execution_count": 7,
   "metadata": {},
   "outputs": [],
   "source": [
    "username.send_keys('bfl2022022@datascience.manipal.edu')"
   ]
  },
  {
   "cell_type": "code",
   "execution_count": 8,
   "metadata": {},
   "outputs": [],
   "source": [
    "nextButton=browser.find_element_by_id('idSIButton9')\n",
    "\n",
    "nextButton.click()"
   ]
  },
  {
   "cell_type": "code",
   "execution_count": 9,
   "metadata": {},
   "outputs": [],
   "source": [
    "pas=browser.find_element_by_name('passwd')\n",
    "\n",
    "pas\n",
    "\n",
    "pas.send_keys('Avpk1234@')"
   ]
  },
  {
   "cell_type": "code",
   "execution_count": 10,
   "metadata": {},
   "outputs": [],
   "source": [
    "signinButton=browser.find_element_by_id('idSIButton9')\n",
    "\n",
    "signinButton.click()\n"
   ]
  },
  {
   "cell_type": "code",
   "execution_count": 12,
   "metadata": {},
   "outputs": [],
   "source": [
    "\n",
    "yesButton=browser.find_element_by_id('idSIButton9')\n",
    "\n",
    "yesButton.click()"
   ]
  },
  {
   "cell_type": "code",
   "execution_count": 40,
   "metadata": {},
   "outputs": [
    {
     "data": {
      "text/plain": [
       "<selenium.webdriver.remote.webelement.WebElement (session=\"1f76e36fb798180b19ddf5bc3824e819\", element=\"517e0b3e-a3b1-49f6-9b13-d74941ceb7eb\")>"
      ]
     },
     "execution_count": 40,
     "metadata": {},
     "output_type": "execute_result"
    }
   ],
   "source": [
    "classesContainer=browser.find_element_by_class_name('stv-item-container')\n",
    "classesContainer.click()"
   ]
  },
  {
   "cell_type": "markdown",
   "metadata": {},
   "source": [
    "# Next block of code is used when you have many teams and want to select some paticular team"
   ]
  },
  {
   "cell_type": "code",
   "execution_count": 41,
   "metadata": {},
   "outputs": [
    {
     "name": "stdout",
     "output_type": "stream",
     "text": [
      "True\n"
     ]
    }
   ],
   "source": [
    "classesContainers=browser.find_elements_by_class_name('stv-item-container')\n",
    "sop = BeautifulSoup(browser.page_source, \"lxml\")\n",
    "teams =sop.select('div.stv-item-container')\n",
    "required_team=''\n",
    "team_name='BFL-Data Track_Batch 1'\n",
    "team_no=0\n",
    "for team in teams:\n",
    "    t_name=team.get_text().split('\\n')[-1]\n",
    "    \n",
    "    if team_name==t_name:\n",
    "        print(t_name==team_name)\n",
    "        break\n",
    "    team_no+=1\n",
    "\n",
    "classesContainers[team_no].click()        \n"
   ]
  },
  {
   "cell_type": "code",
   "execution_count": 425,
   "metadata": {},
   "outputs": [],
   "source": []
  },
  {
   "cell_type": "code",
   "execution_count": 42,
   "metadata": {},
   "outputs": [],
   "source": [
    "chatBlock=browser.find_elements_by_class_name('ts-message-list-item')"
   ]
  },
  {
   "cell_type": "code",
   "execution_count": 43,
   "metadata": {
    "scrolled": true
   },
   "outputs": [
    {
     "data": {
      "text/plain": [
       "[<selenium.webdriver.remote.webelement.WebElement (session=\"1f76e36fb798180b19ddf5bc3824e819\", element=\"19af1740-f7d4-4b92-aa54-62b70dfcb55c\")>,\n",
       " <selenium.webdriver.remote.webelement.WebElement (session=\"1f76e36fb798180b19ddf5bc3824e819\", element=\"620a3507-d8d5-4945-8ee6-9cf903ee3ba7\")>,\n",
       " <selenium.webdriver.remote.webelement.WebElement (session=\"1f76e36fb798180b19ddf5bc3824e819\", element=\"e6998dc4-a065-4272-92eb-36e3b4023fee\")>,\n",
       " <selenium.webdriver.remote.webelement.WebElement (session=\"1f76e36fb798180b19ddf5bc3824e819\", element=\"88af4619-249c-447a-bda3-b42bd4d13b17\")>,\n",
       " <selenium.webdriver.remote.webelement.WebElement (session=\"1f76e36fb798180b19ddf5bc3824e819\", element=\"1ccd6139-ebe9-4d2a-8bc1-84c772944d63\")>]"
      ]
     },
     "execution_count": 43,
     "metadata": {},
     "output_type": "execute_result"
    }
   ],
   "source": [
    "chatBlock"
   ]
  },
  {
   "cell_type": "code",
   "execution_count": 44,
   "metadata": {},
   "outputs": [
    {
     "data": {
      "text/plain": [
       "<selenium.webdriver.remote.webelement.WebElement (session=\"1f76e36fb798180b19ddf5bc3824e819\", element=\"1ccd6139-ebe9-4d2a-8bc1-84c772944d63\")>"
      ]
     },
     "execution_count": 44,
     "metadata": {},
     "output_type": "execute_result"
    }
   ],
   "source": [
    "latestchatBlock=chatBlock[-1]\n",
    "latestchatBlock"
   ]
  },
  {
   "cell_type": "code",
   "execution_count": 45,
   "metadata": {},
   "outputs": [],
   "source": [
    "a=latestchatBlock.find_elements_by_class_name('conversation-collapsed')[-1]\n",
    "a.click()"
   ]
  },
  {
   "cell_type": "code",
   "execution_count": 52,
   "metadata": {},
   "outputs": [],
   "source": [
    "load=latestchatBlock.find_elements_by_class_name('load-replies' )\n",
    "load[0].click()"
   ]
  },
  {
   "cell_type": "code",
   "execution_count": 53,
   "metadata": {},
   "outputs": [],
   "source": [
    "# latestblock.page_source()\n",
    "soup = BeautifulSoup(browser.page_source, \"lxml\")\n",
    "# soupstv-item-container"
   ]
  },
  {
   "cell_type": "markdown",
   "metadata": {},
   "source": [
    "# selecting all the containers of chats or meetings and using latest block"
   ]
  },
  {
   "cell_type": "code",
   "execution_count": 55,
   "metadata": {},
   "outputs": [],
   "source": [
    "allblocks=soup.select(\"div.item-wrap.ts-message-list-item\")\n",
    "lastblock=allblocks[-1]"
   ]
  },
  {
   "cell_type": "code",
   "execution_count": 56,
   "metadata": {},
   "outputs": [],
   "source": [
    "allblocks=soup.select(\"div.item-wrap.ts-message-list-item\")\n",
    "lastblock=allblocks[-1]"
   ]
  },
  {
   "cell_type": "code",
   "execution_count": 57,
   "metadata": {},
   "outputs": [
    {
     "data": {
      "text/plain": [
       "147"
      ]
     },
     "execution_count": 57,
     "metadata": {},
     "output_type": "execute_result"
    }
   ],
   "source": [
    "first=lastblock.select('div.message-body-top-row.padded-content')\n",
    "len(first)"
   ]
  },
  {
   "cell_type": "code",
   "execution_count": 58,
   "metadata": {},
   "outputs": [
    {
     "data": {
      "text/plain": [
       "147"
      ]
     },
     "execution_count": 58,
     "metadata": {},
     "output_type": "execute_result"
    }
   ],
   "source": [
    "first=lastblock.select('div.message-body-top-row.padded-content')\n",
    "len(first)"
   ]
  },
  {
   "cell_type": "markdown",
   "metadata": {},
   "source": [
    "# To get all the blocks of message from soup"
   ]
  },
  {
   "cell_type": "code",
   "execution_count": 59,
   "metadata": {},
   "outputs": [
    {
     "data": {
      "text/plain": [
       "<div check-above-viewport=\"false\" class=\"conversation-common conversation-reply conversation-not-collapsed\" deferred-render-ready=\"msgCtrl.thread.deferredRenderReady\" delay-scroll-tracker-init=\"true\" is-above-view-callback=\"msgCtrl.messageIsAboveViewport(isAboveView)\" is-in-view-callback=\"msgCtrl.messageIsInView(isInView, id)\" ng-class=\"{\n",
       "           'conversation-start conversation-not-collapsed': !msgCtrl.showThreadHeader,\n",
       "           'conversation-reply conversation-not-collapsed': msgCtrl.showThreadHeader,\n",
       "           'no-reply-style' : !msgCtrl.thread.hasReplies &amp;&amp; !msgCtrl.thread.shouldShowReplyButton }\" scroll-container=\"::msgCtrl.scrollContainer\" scroll-item-event-name=\"messageListScroll\" scroll-item-id=\"msgCtrl.thread.firstMessage.objectId\" scroll-item-tracker=\"\">\n",
       "<!-- --><thread-body data-tid=\"messageThreadBody0\" defered-pre-render-ready=\"msgCtrl.thread.deferredPreRenderReady\" defered-render-ready=\"msgCtrl.thread.deferredRenderReady\" edit-root-message-post=\"msgCtrl.editRootMessagePost === 'true' &amp;&amp; msgCtrl.showPostToolbar\" edit-root-message-subject=\"msgCtrl.editRootMessageSubject === 'true' &amp;&amp; msgCtrl.showSubject\" is-calling-screen=\"msgCtrl.isCallingScreen\" message-type=\"conversation\" message-view-model=\"msgCtrl.thread.firstMessage\" ng-if=\"!msgCtrl.thread.firstMessage.isDeleted\" read-receipt-seen-string=\"msgCtrl.readReceiptSeenString\" render-state=\"msgCtrl.renderState\" scenario-id=\"959c2126-5996-4e7b-a9d8-2a8ac3a3b0b1\" see-more-enabled=\"true\" show-border=\"false\" show-post-toolbar=\"msgCtrl.showPostToolbar\" show-subject=\"msgCtrl.showSubject\" thread=\"msgCtrl.thread\"><!--Regular message template-->\n",
       "<div class=\"media thread-body acc-thread-focusable has-hover-actions keep-size-after-like\" data-prevent-refocus=\"true\" data-tid=\"threadBodyMedia\" id=\"m1641873326148\" ng-attr-calling-screen-focus=\"{{::ctrl.callingScreenFocus}}\" ng-class=\"{ 'highlight-message': ctrl.messageViewModel.isHighlighted,\n",
       "                 'pinned-message': ctrl.messageViewModel.pinState &amp;&amp; ctrl.messageViewModel.pinState.isPinned &amp;&amp; !ctrl.messageViewModel.editFormVisible,\n",
       "                 'important-message': ctrl.messageViewModel.isHighImportance &amp;&amp; !ctrl.messageViewModel.editFormVisible,\n",
       "                 'urgent-message': ctrl.messageViewModel.isUrgentImportance(ctrl.isMeetingConversation) &amp;&amp; !ctrl.messageViewModel.editFormVisible,\n",
       "                 'edited-message show-top-row':  ctrl.messageViewModel.editTime &amp;&amp; !ctrl.messageViewModel.editFormVisible,\n",
       "                 'dlp-message': ctrl.messageViewModel.isDlpBlockedMessage || ctrl.messageViewModel.isDlpFlaggedMessage || ctrl.messageViewModel.dlpPolicyViolation &amp;&amp; ctrl.messageViewModel.dlpPolicyViolation.userAction,\n",
       "                 'dlp-blocked-message': ctrl.messageViewModel.isDlpBlockedMessage || (ctrl.messageViewModel.isDlpFlaggedMessage &amp;&amp; ctrl.isSelf),\n",
       "                 'at-mentions-included': ctrl.messageViewModel.containsSelfMention &amp;&amp; !ctrl.messageViewModel.editFormVisible,\n",
       "                 'merge-bubble' : ctrl.messageViewModel.mergeMessageBubble,\n",
       "                 'has-likes': ctrl.messageViewModel.likedByUsers.length,\n",
       "                 'keep-size-after-like': ctrl.messageReactionsEnabled,\n",
       "                 'bookmarked' : ctrl.messageViewModel.userHasStarred,\n",
       "                 'self': ctrl.isSelf,\n",
       "                 'soft-error': ctrl.messageViewModel.failedAtSfBGateway,\n",
       "                 'bubble-merge-sending show-top-row': ctrl.showBubbleMergeSending,\n",
       "                 'conversation-error show-top-row message-error' : ctrl.messageViewModel.isInError,\n",
       "                 'message-action-error show-top-row message-error' : ctrl.messageViewModel.hasMessageActionFailed,\n",
       "                 'bubble-merge-translating show-top-row': ctrl.messageViewModel.isTranslationToggled || ctrl.messageViewModel._translationState !== 0,\n",
       "                 'has-reactions': ctrl.messageReactionsEnabled &amp;&amp;  ctrl.messageViewModel.messageHasReaction,\n",
       "                 'contains-tag-mention': ctrl.messageViewModel.containsTagMention &amp;&amp; !ctrl.messageViewModel.editFormVisible }\" simple-blur=\"ctrl.onBlur($event)\" simple-focus=\"ctrl.onFocus($event)\" tabindex=\"-1\">\n",
       "<!-- -->\n",
       "<!-- -->\n",
       "<!--Chat head-->\n",
       "<div class=\"media-left\" ng-class=\"{ 'hide-media-left' : ctrl.messageViewModel.editFormVisible }\">\n",
       "<!-- Person icon -->\n",
       "<!-- --><div class=\"wrapper\" ng-if=\"ctrl.isProfilePictureDeferralCstEnabled &amp;&amp; ctrl.isMessagingInCdlWorkerEnabled ?\n",
       "           !ctrl.messageViewModel.mergeMessageBubble &amp;&amp; ctrl.deferedRenderReady :\n",
       "           !ctrl.messageViewModel.mergeMessageBubble\">\n",
       "<profile-picture aria-haspopup=\"dialog\" aria-label=\"Opens Profile Card\" class=\"lpc-hoverTarget\" conversation-id=\"ctrl.isSharedChannel ? ctrl.thread.conversationId : null\" css-class=\"media-object\" data-is-focusable=\"true\" data-lpc-hover-target-id=\"lpc-target-11\" data-tid=\"personCardTrigger-8:orgid:3e69c9d4-fc1b-4db1-9dd1-a3c2dd413b42\" display-name=\"ctrl.messageViewModel.from.displayName\" host-tenant-id=\"ctrl.hostTenantId\" is-external-user=\"::ctrl.isChatWithExternalUser\" is-shared-channel=\"ctrl.isSharedChannel\" mri=\"::ctrl.messageViewModel.from.mri\" pc-display-name=\"::ctrl.messageViewModel.from.displayName\" pc-host-conversation-id=\"ctrl.isSharedChannel ? ctrl.thread.conversationId : null\" pc-host-tenant-id=\"ctrl.hostTenantId\" pc-is-sfb=\"ctrl.isInteropChat\" pc-is-shared-channel=\"ctrl.isSharedChannel\" pc-mri=\"::ctrl.messageViewModel.from.mri\" person-card=\"\" principal-name=\"ctrl.messageViewModel.from.userPrincipalName\" role=\"button\" size=\"ctrl.messageType === 'conversation' ? ctrl.constants.profilePictureSizes.threadMediaLarge : ctrl.constants.profilePictureSizes.xsmall\" source=\"thread-body-regular\" tabindex=\"0\"><!-- --><img alt=\"Profile picture of Pradeep Prabhu.\" class=\"media-object\" ng-class=\"$ctrl.additionalCssClass\" ng-dblclick=\"$ctrl.popOutChat()\" ng-if=\"$ctrl.displayImg() &amp;&amp; !$ctrl.isDisplayLocallyGeneratedInitialsImage\" ng-src=\"https://teams.microsoft.com/api/mt/apac/beta/users/8:orgid:3e69c9d4-fc1b-4db1-9dd1-a3c2dd413b42/profilepicturev2?displayname=Pradeep Prabhu&amp;size=HR42x42\" ng-style=\"{'object-fit':'cover', 'visibility': $ctrl.visibility}\" profile-picture-img-event=\"$ctrl.onImgEventHandler($event)\" src=\"https://teams.microsoft.com/api/mt/apac/beta/users/8:orgid:3e69c9d4-fc1b-4db1-9dd1-a3c2dd413b42/profilepicturev2?displayname=Pradeep Prabhu&amp;size=HR42x42\" style=\"object-fit: cover;\" upn=\"pradeep.prabhu@datascience.manipal.edu\"/><!-- -->\n",
       "<!-- -->\n",
       "<!-- --></profile-picture>\n",
       "<!-- --><skype-status class=\"thread-body-status\" deferred-load=\"\" mri=\"::ctrl.messageViewModel.from.mri\" ng-if=\"ctrl.isProfilePictureDeferralCstEnabled &amp;&amp; ctrl.isMessagingInCdlWorkerEnabled ?\n",
       "                      !ctrl.messageViewModel.from.isAnonymousUser :\n",
       "                      !ctrl.messageViewModel.from.isAnonymousUser &amp;&amp; ctrl.deferedRenderReady\" source=\"\"><!-- --><span class=\"ts-skype-status visible\" ng-class=\"::$ctrl.visibleClass\" ng-if=\"$ctrl.showStatus()\" title=\"In a call\">\n",
       "<span aria-hidden=\"true\">\n",
       "<span class=\"status-icon ts-sym on-the-phone\" data-tid=\"presence-8:orgid:3e69c9d4-fc1b-4db1-9dd1-a3c2dd413b42\" ng-class=\"$ctrl.statusClass\" role=\"img\"></span>\n",
       "<span class=\"status-mask\"></span>\n",
       "<!-- -->\n",
       "</span>\n",
       "</span><!-- --></skype-status><!-- -->\n",
       "</div><!-- -->\n",
       "</div>\n",
       "<div class=\"ts-message-thread-body align-item-left\" data-tid=\"messageThreadBody\" ng-class=\"{'has-attachments': ctrl.messageViewModel.hasAttachments} \">\n",
       "<!--EditMessage-->\n",
       "<!-- -->\n",
       "<!--EditMessage-->\n",
       "<!-- --><div class=\"message-body message-body-width\" id=\"messageBody\" ng-if=\"!ctrl.messageViewModel.editFormVisible\" ng-mouseleave=\"!ctrl.isInteropChat &amp;&amp; ctrl.messageReactionsEnabled &amp;&amp; ctrl.hoverOutMessageBodyHandler($event)\" simple-mouseenter=\"ctrl.messageReactionsEnabled &amp;&amp; ctrl.showMessageActions($event, this)\">\n",
       "<!-- --><div class=\"message-body-top-row padded-content\" ng-class=\"{ 'unread-message': ctrl.messageViewModel.isNewMessage,\n",
       "                       'has-reactions': ctrl.messageReactionsEnabled &amp;&amp; ctrl.messageViewModel.messageHasReaction}\" ng-if=\"!ctrl.isHiddenByDlp\">\n",
       "<div class=\"top-row-text-container\" ng-class=\"{'single-line-truncation': ctrl.messageReactionsEnabled &amp;&amp; ctrl.messageViewModel.isRightRail}\">\n",
       "<!--Name-->\n",
       "<div class=\"ts-msg-name app-small-font\" data-tid=\"threadBodyDisplayName\" dir=\"auto\">\n",
       "            Pradeep Prabhu\n",
       "          </div>\n",
       "<div class=\"timestamp-column\" data-tid=\"sending-state-2\">\n",
       "<!--Sending text-->\n",
       "<span class=\"ts-created ts-sending-text ng-hide\" data-tid=\"messageSendingText\" ng-show=\"ctrl.showSendingText\" translate-once=\"messages_sending\">Sending...</span>\n",
       "<!--Timestamps-->\n",
       "<span class=\"ts-created message-datetime\" data-tid=\"messageTimeStamp\" ng-show=\"ctrl.showTimestamp\" title=\"Jan 11, 9:25:26 AM\">\n",
       "              1/11, 9:25 AM\n",
       "            </span>\n",
       "</div>\n",
       "<!--Cross Post indicator-->\n",
       "<!-- -->\n",
       "<!--Edit indicator-->\n",
       "<span class=\"edit-indicator\" data-tid=\"editIndicator\" title=\"\" translate-once=\"edited\">Edited</span>\n",
       "<!-- translation info -->\n",
       "<!-- --><span class=\"message-translation-message-container\" ng-if=\"ctrl.isTranslationEnabled &amp;&amp; ctrl.deferedRenderReady\" ng-switch=\"\" on=\"ctrl.messageViewModel._translationState\">\n",
       "<!-- MessageTranslationState.Done -->\n",
       "<!-- --><!-- --><!-- -->\n",
       "<!-- MessageTranslationState.InProcess -->\n",
       "<!-- -->\n",
       "<!-- Default to error case -->\n",
       "<!-- -->\n",
       "</span><!-- -->\n",
       "<!--Error indicator-->\n",
       "<div class=\"error-indicator\">\n",
       "<svg class=\"app-svg icons-error-small\" role=\"presentation\" viewbox=\"-6 -6 32 32\"><path class=\"icons-red-fill\" clip-rule=\"evenodd\" d=\"M8.68404 2.85216C9.25393 1.816 10.7428 1.81599 11.3127 2.85216L17.8714 14.7771C18.4212 15.7768 17.698 17 16.5571 17H3.43964C2.29873 17 1.57549 15.7768 2.12531 14.7771L8.68404 2.85216ZM9.99835 6.75C10.4126 6.75 10.7484 7.08579 10.7484 7.5V11.5C10.7484 11.9142 10.4126 12.25 9.99835 12.25C9.58414 12.25 9.24835 11.9142 9.24835 11.5V7.5C9.24835 7.08579 9.58414 6.75 9.99835 6.75ZM10.7484 13.75C10.7484 14.1642 10.4126 14.5 9.99835 14.5C9.58414 14.5 9.24835 14.1642 9.24835 13.75C9.24835 13.3358 9.58414 13 9.99835 13C10.4126 13 10.7484 13.3358 10.7484 13.75Z\" fill-rule=\"evenodd\"></path></svg>\n",
       "<span class=\"error-text\" ng-bind-html=\"ctrl.getMessageError()\"></span>\n",
       "</div>\n",
       "</div>\n",
       "<!--Show message reactions in top row -->\n",
       "<!-- -->\n",
       "<!-- --><button aria-label=\"Toolbar with two buttons, press enter to enter toolbar\" class=\"hidden-button-virtual-pc-cursor\" data-prevent-refocus=\"true\" ng-click=\"ctrl.openTooltipInScanMode($event, this)\" ng-if=\"ctrl.messageReactionsEnabled &amp;&amp; !ctrl.isHiddenByDlp &amp;&amp; !ctrl.isInteropChat\" role=\"button\"></button><!-- -->\n",
       "</div><!-- -->\n",
       "<!--announcement header banner-->\n",
       "<!-- -->\n",
       "<!--Important message text-->\n",
       "<!-- -->\n",
       "<!--Urgent message text-->\n",
       "<!-- -->\n",
       "<!-- -->\n",
       "<!-- -->\n",
       "<!-- --><div ng-if=\"!ctrl.isHiddenByDlp\">\n",
       "<div class=\"thread-subject padded-content ng-hide\" dir=\"auto\" ng-show=\"ctrl.hasSubject\"></div>\n",
       "<see-more data-tid=\"seeMore\" host-conversation-id=\"ctrl.isSharedChannel ? ctrl.thread.conversationId : null\" host-tenant-id=\"ctrl.hostTenantId\" is-enabled=\"::ctrl.seeMoreEnabled\" is-shared-channel=\"ctrl.isSharedChannel\" message-view-model=\"ctrl.messageViewModel\"><div class=\"message-body-container padded-content\" data-tid=\"messageBodyContainer\" decorate-click-for-acc-selfonly=\"\" ng-class=\"::ctrl.cssClassForInputExtensions\" ng-click=\"handleClick($event)\" track-click-silent=\"true\">\n",
       "<div class=\"message-body-content clearfix html\" compile=\"ctrl.messageViewModel.body\" compile-scope-properties=\"ctrl.scopeProperties\" data-tid=\"messageBodyContent\" dir=\"auto\" ng-class=\"{'html': ctrl.messageViewModel.isRichTextHtml,\n",
       "                    'text-to-html': ctrl.messageViewModel.isPlainTextConvertedToHtml}\"><div>Scheduled a meeting</div></div>\n",
       "</div>\n",
       "<button class=\"ts-sym ts-see-more-button hide ts-see-more-fold\" data-tid=\"seeMoreButton\" ng-class=\"{'ts-see-more-fold': !ctrl.messageViewModel.isSeeMoreExpanded}\" ng-click=\"toggleSeeMore()\" tabindex=\"-1\" track-data=\"{messageID: '1641873326148', leftRailDirective: 'school-app-left-rail'}\" track-default=\"toggleSeeMore\" track-panel-type=\"4\" track-summary=\"See more/ See less\">\n",
       "<span translate-once=\"messages_seeMoreText\">See more</span>\n",
       "<span translate-once=\"messages_seeLessText\">See less</span>\n",
       "</button></see-more>\n",
       "<!-- Each filecheclet.html contains 2x ng-ifs.  This change collapses them into one.  -->\n",
       "<!-- -->\n",
       "<!-- -->\n",
       "<scheduled-meeting-message class=\"scheduled-meeting\" conversation-id=\"::ctrl.conversationId\" message-view-model=\"ctrl.messageViewModel\"><!-- --><div acc-role-dom=\"table-content-row clickable\" acc-row=\"\" aria-describedby=\"meetingtitle-d92b61bf-c532-4e47-9b01-63cd774d6f5b meetingtime-d92b61bf-c532-4e47-9b01-63cd774d6f5b\" aria-label=\"Click to see details of this meeting\" class=\"ts-meeting-message \" ng-attr-aria-describedby=\"{{'meetingtitle-'+smm.uniqueId +' meetingtime-' + smm.uniqueId }}\" ng-class=\"{'iscancelled' :smm.schedulingProperties.isCancelled}\" ng-if=\"smm.showCalendarEventChiclet\" role=\"row\" tabindex=\"-1\" track-name=\"328\" track-outcome=\"1\" track-scenario=\"330\" track-scenario-type=\"23\" track-summary=\"Scheduled Meeting\" track-type=\"44\">\n",
       "<div class=\"icon-container\">\n",
       "<!-- --><ng-include class=\"icon\" src=\"'svg/icons-calendar.html'\"><svg class=\"app-svg icons-calendar app-bar-icons-fill-colors\" role=\"presentation\" viewbox=\"-6 -6 32 32\"><g class=\"icons-default-fill\"><g class=\"icons-unfilled\"><path d=\"M7 11C7.55228 11 8 10.5523 8 10C8 9.44771 7.55228 9 7 9C6.44772 9 6 9.44771 6 10C6 10.5523 6.44772 11 7 11Z\"></path><path d=\"M8 13C8 13.5523 7.55228 14 7 14C6.44772 14 6 13.5523 6 13C6 12.4477 6.44772 12 7 12C7.55228 12 8 12.4477 8 13Z\"></path><path d=\"M10 11C10.5523 11 11 10.5523 11 10C11 9.44771 10.5523 9 10 9C9.44771 9 9 9.44771 9 10C9 10.5523 9.44771 11 10 11Z\"></path><path d=\"M11 13C11 13.5523 10.5523 14 10 14C9.44771 14 9 13.5523 9 13C9 12.4477 9.44771 12 10 12C10.5523 12 11 12.4477 11 13Z\"></path><path d=\"M13 11C13.5523 11 14 10.5523 14 10C14 9.44771 13.5523 9 13 9C12.4477 9 12 9.44771 12 10C12 10.5523 12.4477 11 13 11Z\"></path><path clip-rule=\"evenodd\" d=\"M17 5.5C17 4.11929 15.8807 3 14.5 3H5.5C4.11929 3 3 4.11929 3 5.5V14.5C3 15.8807 4.11929 17 5.5 17H14.5C15.8807 17 17 15.8807 17 14.5V5.5ZM4 7H16V14.5C16 15.3284 15.3284 16 14.5 16H5.5C4.67157 16 4 15.3284 4 14.5V7ZM5.5 4H14.5C15.3284 4 16 4.67157 16 5.5V6H4V5.5C4 4.67157 4.67157 4 5.5 4Z\" fill-rule=\"evenodd\"></path></g><g class=\"icons-filled\"><path d=\"M5.5 3C4.11929 3 3 4.11929 3 5.5V6H17V5.5C17 4.11929 15.8807 3 14.5 3H5.5Z\"></path><path clip-rule=\"evenodd\" d=\"M17 7H3V14.5C3 15.8807 4.11929 17 5.5 17H14.5C15.8807 17 17 15.8807 17 14.5V7ZM8 10C8 10.5523 7.55228 11 7 11C6.44772 11 6 10.5523 6 10C6 9.44771 6.44772 9 7 9C7.55228 9 8 9.44771 8 10ZM7 14C7.55228 14 8 13.5523 8 13C8 12.4477 7.55228 12 7 12C6.44772 12 6 12.4477 6 13C6 13.5523 6.44772 14 7 14ZM11 10C11 10.5523 10.5523 11 10 11C9.44771 11 9 10.5523 9 10C9 9.44771 9.44771 9 10 9C10.5523 9 11 9.44771 11 10ZM10 14C10.5523 14 11 13.5523 11 13C11 12.4477 10.5523 12 10 12C9.44771 12 9 12.4477 9 13C9 13.5523 9.44771 14 10 14ZM14 10C14 10.5523 13.5523 11 13 11C12.4477 11 12 10.5523 12 10C12 9.44771 12.4477 9 13 9C13.5523 9 14 9.44771 14 10Z\" fill-rule=\"evenodd\"></path></g></g></svg></ng-include>\n",
       "</div>\n",
       "<div class=\"content\" data-tid=\"meetingMessageContent\" ng-click=\"smm.openMeetingDetail()\" title=\"Click to see details of this meeting\">\n",
       "<div class=\"title\">\n",
       "<span class=\"title-icon\" id=\"meetingtitle-d92b61bf-c532-4e47-9b01-63cd774d6f5b\" ng-attr-id=\"{{ 'meetingtitle-' + smm.uniqueId }}\" ng-bind-html=\"smm.sanitizedTitle\">BFL-Data Track_Batch 1</span>\n",
       "</div>\n",
       "<div class=\"time single-line-truncation\" id=\"meetingtime-d92b61bf-c532-4e47-9b01-63cd774d6f5b\" ng-attr-id=\"{{ 'meetingtime-' + smm.uniqueId }}\">\n",
       "            Occurs every Mon, Tue, Wed, Thu, Fri and Sat @9:00 AM until 2/10/2022\n",
       "        </div>\n",
       "</div>\n",
       "<!-- --><a acc-cell=\"\" acc-role-dom=\"table-content-cell clickable\" class=\"ts-action-button app-icons-fill-hover\" ng-if=\"smm.showActionButton\" role=\"gridcell\" tabindex=\"-1\" title=\"More options\" track-name=\"330\" track-outcome=\"3\" track-scenario=\"331\" track-scenario-type=\"23\" track-summary=\"Meeting options\" track-type=\"6\">\n",
       "<!-- --><div aria-hidden=\"true\" class=\"ts-meeting-action-button icons-more\" ng-click=\"smm.handleMoreButtonClick($event, this)\" ng-if=\"!smm.isGuest\">\n",
       "<!-- --><ng-include src=\"'svg/icons-more.html'\"><svg class=\"app-svg icons-more app-bar-extra-icons-fill-colors\" focusable=\"false\" role=\"presentation\" viewbox=\"-6 -6 32 32\"><g class=\"icons-default-fill\"><g class=\"icons-unfilled\"><path d=\"M6.25 10C6.25 10.6904 5.69036 11.25 5 11.25C4.30964 11.25 3.75 10.6904 3.75 10C3.75 9.30964 4.30964 8.75 5 8.75C5.69036 8.75 6.25 9.30964 6.25 10Z\"></path><path d=\"M11.25 10C11.25 10.6904 10.6904 11.25 10 11.25C9.30964 11.25 8.75 10.6904 8.75 10C8.75 9.30964 9.30964 8.75 10 8.75C10.6904 8.75 11.25 9.30964 11.25 10Z\"></path><path d=\"M15 11.25C15.6904 11.25 16.25 10.6904 16.25 10C16.25 9.30964 15.6904 8.75 15 8.75C14.3096 8.75 13.75 9.30964 13.75 10C13.75 10.6904 14.3096 11.25 15 11.25Z\"></path></g><g class=\"icons-filled\"><path d=\"M6.75 10C6.75 10.9665 5.9665 11.75 5 11.75C4.0335 11.75 3.25 10.9665 3.25 10C3.25 9.0335 4.0335 8.25 5 8.25C5.9665 8.25 6.75 9.0335 6.75 10Z\"></path><path d=\"M11.75 10C11.75 10.9665 10.9665 11.75 10 11.75C9.0335 11.75 8.25 10.9665 8.25 10C8.25 9.0335 9.0335 8.25 10 8.25C10.9665 8.25 11.75 9.0335 11.75 10Z\"></path><path d=\"M15 11.75C15.9665 11.75 16.75 10.9665 16.75 10C16.75 9.0335 15.9665 8.25 15 8.25C14.0335 8.25 13.25 9.0335 13.25 10C13.25 10.9665 14.0335 11.75 15 11.75Z\"></path></g></g></svg></ng-include>\n",
       "</div><!-- -->\n",
       "</a><!-- -->\n",
       "</div><!-- --></scheduled-meeting-message>\n",
       "</div><!-- -->\n",
       "</div><!-- -->\n",
       "<!-- --><action-marker message-vm=\"ctrl.messageViewModel\" ng-if=\"ctrl.deferedRenderReady &amp;&amp; !ctrl.isHiddenByDlp\"><!-- -->\n",
       "</action-marker><!-- -->\n",
       "</div>\n",
       "</div></thread-body><!-- -->\n",
       "<!-- -->\n",
       "<!-- -->\n",
       "</div>"
      ]
     },
     "execution_count": 59,
     "metadata": {},
     "output_type": "execute_result"
    }
   ],
   "source": [
    "allchats=lastblock.select('div.conversation-common.conversation-reply.conversation-not-collapsed')\n",
    "allchats[0]"
   ]
  },
  {
   "cell_type": "code",
   "execution_count": 60,
   "metadata": {},
   "outputs": [],
   "source": [
    "\n",
    "day_number={'Sunday':0,'Monday':1,'Tuesday':2,'Wednesday':3,'Thursday':4,'Friday':5,'Saturday':6}\n"
   ]
  },
  {
   "cell_type": "markdown",
   "metadata": {},
   "source": [
    "# To get required details like date, senttime, sentby, imageurls"
   ]
  },
  {
   "cell_type": "code",
   "execution_count": 61,
   "metadata": {},
   "outputs": [
    {
     "name": "stdout",
     "output_type": "stream",
     "text": [
      "'aria-label'\n",
      "3:14_PM\n",
      "https://as-prod.asyncgw.teams.microsoft.com/v1/objects/0-sin-d4-ab1d0d97e7e347eb6b61db676d8556bd/views/imgo\n",
      "3:17_PM\n",
      "https://as-prod.asyncgw.teams.microsoft.com/v1/objects/0-cin-d2-39cae37a85d1f150489b9256077c16d7/views/imgo\n",
      "3:18_PM\n",
      "https://as-prod.asyncgw.teams.microsoft.com/v1/objects/0-sin-d2-08bb47a17b46a680d512161d1f4f561f/views/imgo\n",
      "3:20_PM\n",
      "https://as-prod.asyncgw.teams.microsoft.com/v1/objects/0-cin-d2-8732f7912dee2f4ec20ea9a292a1383b/views/imgo\n",
      "3:22_PM\n",
      "https://as-prod.asyncgw.teams.microsoft.com/v1/objects/0-cin-d4-25ed256ef0645a053213ef38f91b2e6f/views/imgo\n",
      "3:23_PM\n",
      "https://as-prod.asyncgw.teams.microsoft.com/v1/objects/0-sin-d3-d326d480c10a510934d0ff174b9d027d/views/imgo\n",
      "3:25_PM\n",
      "https://as-prod.asyncgw.teams.microsoft.com/v1/objects/0-sin-d4-9a3f60ba498ecbedd4a1e6cbb75f4425/views/imgo\n",
      "3:26_PM\n",
      "https://as-prod.asyncgw.teams.microsoft.com/v1/objects/0-sin-d2-044910dc07870966c3c9c4c4533998c9/views/imgo\n",
      "3:27_PM\n",
      "https://as-prod.asyncgw.teams.microsoft.com/v1/objects/0-sin-d4-4d6042cf6a0bdf30f0eaad30eab8b543/views/imgo\n",
      "3:31_PM\n",
      "https://as-prod.asyncgw.teams.microsoft.com/v1/objects/0-cin-d2-f61aa0ea62cdd04ad9ec162da6b88685/views/imgo\n",
      "3:32_PM\n",
      "https://as-prod.asyncgw.teams.microsoft.com/v1/objects/0-sin-d2-d2193ab278f0c6b1d79b40f614d14b57/views/imgo\n",
      "3:33_PM\n",
      "https://as-prod.asyncgw.teams.microsoft.com/v1/objects/0-sin-d1-0943a181ef5b40825081b03a6141a5d9/views/imgo\n",
      "3:33_PM\n",
      "https://as-prod.asyncgw.teams.microsoft.com/v1/objects/0-cin-d3-c1ddc21472b921345555c2fa8ad49073/views/imgo\n",
      "3:36_PM\n",
      "https://as-prod.asyncgw.teams.microsoft.com/v1/objects/0-cin-d4-cb9c7c6e4a5f95b38e1d3dd63556d079/views/imgo\n",
      "3:37_PM\n",
      "https://as-prod.asyncgw.teams.microsoft.com/v1/objects/0-sin-d3-edd7f43c48fe2e6161807fc97dd3e8fb/views/imgo\n",
      "3:37_PM\n",
      "https://as-prod.asyncgw.teams.microsoft.com/v1/objects/0-sin-d1-b73ad5abe7e6b8c818ec78076fcc5073/views/imgo\n",
      "3:38_PM\n",
      "https://as-prod.asyncgw.teams.microsoft.com/v1/objects/0-cin-d2-0983601a1fc8d72e13aafe816ee228e4/views/imgo\n",
      "3:40_PM\n",
      "https://as-prod.asyncgw.teams.microsoft.com/v1/objects/0-sin-d4-e07f1b3c6cbb840743911babeb924cfd/views/imgo\n",
      "3:42_PM\n",
      "https://as-prod.asyncgw.teams.microsoft.com/v1/objects/0-cin-d2-13e0158bc621e072e3f5ccf336bf42aa/views/imgo\n",
      "'aria-label'\n",
      "3:59_PM\n",
      "https://as-prod.asyncgw.teams.microsoft.com/v1/objects/0-cin-d3-b699986e43754f0d293d68984858daf9/views/imgo\n",
      "4:00_PM\n",
      "https://as-prod.asyncgw.teams.microsoft.com/v1/objects/0-sin-d2-0d797145a34128f7fd1c1d56a2452383/views/imgo\n",
      "4:01_PM\n",
      "https://as-prod.asyncgw.teams.microsoft.com/v1/objects/0-sin-d1-2d5450bc41b9e45a1d2e8e2dfb0cde80/views/imgo\n",
      "4:01_PM\n",
      "https://as-prod.asyncgw.teams.microsoft.com/v1/objects/0-sin-d1-ce579776b0f12f6f1fbb719de61b312a/views/imgo\n",
      "4:01_PM\n",
      "https://as-prod.asyncgw.teams.microsoft.com/v1/objects/0-sin-d3-b7971f82e1691540205bfb1c60436223/views/imgo\n",
      "4:02_PM\n",
      "https://as-prod.asyncgw.teams.microsoft.com/v1/objects/0-cin-d4-19fd4b18c8fa3dcfdd7b14e82eca9334/views/imgo\n",
      "4:03_PM\n",
      "https://as-prod.asyncgw.teams.microsoft.com/v1/objects/0-sin-d2-fa8586c1fd8b68d9142c128ef215db0d/views/imgo\n",
      "4:05_PM\n",
      "https://as-prod.asyncgw.teams.microsoft.com/v1/objects/0-cin-d1-c38e93ff3ce0245b796f7983ee4c7538/views/imgo\n",
      "list index out of range\n",
      "list index out of range\n",
      "list index out of range\n",
      "list index out of range\n",
      "list index out of range\n",
      "list index out of range\n",
      "list index out of range\n",
      "list index out of range\n",
      "list index out of range\n",
      "list index out of range\n",
      "9:29_AM\n",
      "https://as-prod.asyncgw.teams.microsoft.com/v1/objects/0-sin-d2-e506a82e4327b880d7452ab7813b3224/views/imgo\n",
      "9:30_AM\n",
      "https://as-prod.asyncgw.teams.microsoft.com/v1/objects/0-sin-d4-4daf0021149cbaec0837fe487ad2ee95/views/imgo\n",
      "9:36_AM\n",
      "https://as-prod.asyncgw.teams.microsoft.com/v1/objects/0-cin-d4-8d5b5b5d5e34ae70677b9eaae72921c4/views/imgo\n",
      "9:37_AM\n",
      "https://as-prod.asyncgw.teams.microsoft.com/v1/objects/0-cin-d3-ad165ebd5ef1a469c7cc75c1b3808767/views/imgo\n",
      "9:40_AM\n",
      "https://as-prod.asyncgw.teams.microsoft.com/v1/objects/0-sin-d1-089a8916804c26488a7ded663919f598/views/imgo\n",
      "9:42_AM\n",
      "https://as-prod.asyncgw.teams.microsoft.com/v1/objects/0-cin-d1-7ac2c4958c446dc615dca9e656018fea/views/imgo\n",
      "9:45_AM\n",
      "https://as-prod.asyncgw.teams.microsoft.com/v1/objects/0-sin-d4-0b6dc44b89fc16c177cb520e7a5bb7ef/views/imgo\n",
      "9:46_AM\n",
      "https://as-prod.asyncgw.teams.microsoft.com/v1/objects/0-cin-d1-9d0295b515600662bf3a356082966ac6/views/imgo\n",
      "9:47_AM\n",
      "https://as-prod.asyncgw.teams.microsoft.com/v1/objects/0-cin-d4-c34413e5bd45f426f2bd122b44acdb82/views/imgo\n",
      "9:47_AM\n",
      "https://as-prod.asyncgw.teams.microsoft.com/v1/objects/0-cin-d2-fd488a6e004d0735b5b8027c9b286df0/views/imgo\n",
      "9:48_AM\n",
      "https://as-prod.asyncgw.teams.microsoft.com/v1/objects/0-sin-d4-996beadf369175c753f16768e68bf4a1/views/imgo\n",
      "9:49_AM\n",
      "https://as-prod.asyncgw.teams.microsoft.com/v1/objects/0-sin-d1-cc1863c3ab3fdb43c66c7e89d023d2ea/views/imgo\n",
      "9:50_AM\n",
      "https://as-prod.asyncgw.teams.microsoft.com/v1/objects/0-cin-d2-e28a6ac23bda6a75e6d77d4e3f00bfa3/views/imgo\n",
      "9:50_AM\n",
      "https://as-prod.asyncgw.teams.microsoft.com/v1/objects/0-cin-d2-6303bb99a8fc4191174c7b87ea778daa/views/imgo\n",
      "9:51_AM\n",
      "https://as-prod.asyncgw.teams.microsoft.com/v1/objects/0-sin-d1-088b883c5bb423022593a9913f101933/views/imgo\n",
      "9:54_AM\n",
      "https://as-prod.asyncgw.teams.microsoft.com/v1/objects/0-sin-d2-f5517cfb926734fd0aa9114c5cc72621/views/imgo\n",
      "10:00_AM\n",
      "https://as-prod.asyncgw.teams.microsoft.com/v1/objects/0-sin-d3-fcfdd2b59815e359ba447a2d4473e385/views/imgo\n",
      "10:01_AM\n",
      "https://as-prod.asyncgw.teams.microsoft.com/v1/objects/0-sin-d1-bcdaee019f4c363517f8aa11a0133ddc/views/imgo\n",
      "10:01_AM\n",
      "https://as-prod.asyncgw.teams.microsoft.com/v1/objects/0-cin-d4-8aa42c5017fb23b0ae7a0202acd4f934/views/imgo\n",
      "10:03_AM\n",
      "https://as-prod.asyncgw.teams.microsoft.com/v1/objects/0-cin-d4-005d6089175722278d1a4de64b40a331/views/imgo\n",
      "list index out of range\n",
      "10:06_AM\n",
      "https://as-prod.asyncgw.teams.microsoft.com/v1/objects/0-cin-d1-77df0168385af7a2ac29c12e607b0942/views/imgo\n",
      "10:07_AM\n",
      "https://as-prod.asyncgw.teams.microsoft.com/v1/objects/0-sin-d2-6ddc8ed350cfaf9e7f02decac20720a8/views/imgo\n",
      "list index out of range\n",
      "10:11_AM\n",
      "https://as-prod.asyncgw.teams.microsoft.com/v1/objects/0-sin-d3-881e6c74122a523e292d757863787f05/views/imgo\n",
      "list index out of range\n",
      "list index out of range\n",
      "10:14_AM\n",
      "https://as-prod.asyncgw.teams.microsoft.com/v1/objects/0-sin-d1-038fc97a2839ce786d663caea573cdd1/views/imgo\n",
      "list index out of range\n",
      "10:17_AM\n",
      "https://as-prod.asyncgw.teams.microsoft.com/v1/objects/0-sin-d3-a32a29d76c1c75223be28d44707f1ce7/views/imgo\n",
      "list index out of range\n",
      "10:25_AM\n",
      "https://as-prod.asyncgw.teams.microsoft.com/v1/objects/0-sin-d2-753336fddc6c4f25c3a341e947a315cf/views/imgo\n",
      "10:26_AM\n",
      "https://as-prod.asyncgw.teams.microsoft.com/v1/objects/0-sin-d1-16bea3ff7e64b3a384892e3f26738634/views/imgo\n",
      "10:35_AM\n",
      "https://as-prod.asyncgw.teams.microsoft.com/v1/objects/0-sin-d4-e583a364c316651e99a6f45c41f5810c/views/imgo\n",
      "10:38_AM\n",
      "https://as-prod.asyncgw.teams.microsoft.com/v1/objects/0-cin-d2-8feaefb370fe6ba13a1363cf864442d8/views/imgo\n",
      "10:40_AM\n",
      "https://as-prod.asyncgw.teams.microsoft.com/v1/objects/0-sin-d3-5a1ab7e1ebe1551d44c2051fc78a7783/views/imgo\n",
      "10:41_AM\n",
      "https://as-prod.asyncgw.teams.microsoft.com/v1/objects/0-cin-d3-3cdb090bd90abcc4ed6c36a8aed84129/views/imgo\n",
      "10:44_AM\n",
      "https://as-prod.asyncgw.teams.microsoft.com/v1/objects/0-sin-d1-8990189b8a9eaaef0cb2964ef83e0b88/views/imgo\n",
      "10:45_AM\n",
      "https://as-prod.asyncgw.teams.microsoft.com/v1/objects/0-sin-d3-c1817405cf798eb43194d7fa3ce2c9dd/views/imgo\n",
      "10:46_AM\n",
      "https://as-prod.asyncgw.teams.microsoft.com/v1/objects/0-sin-d4-4accab120268df63849a90262f6fd6fc/views/imgo\n",
      "10:46_AM\n",
      "https://as-prod.asyncgw.teams.microsoft.com/v1/objects/0-cin-d4-14a7f61166b70819e64d65036be915a9/views/imgo\n",
      "10:48_AM\n",
      "https://as-prod.asyncgw.teams.microsoft.com/v1/objects/0-cin-d4-2a54a4e4ee4da4427608b79b7a0f6ecf/views/imgo\n",
      "10:50_AM\n",
      "https://as-prod.asyncgw.teams.microsoft.com/v1/objects/0-sin-d3-1f7d6b5ecb0b0d7a4ba28f157c0d719c/views/imgo\n",
      "10:51_AM\n",
      "https://as-prod.asyncgw.teams.microsoft.com/v1/objects/0-cin-d1-04e9f3cc5ea60e4c01e7e739d7a1049a/views/imgo\n",
      "10:53_AM\n",
      "https://as-prod.asyncgw.teams.microsoft.com/v1/objects/0-sin-d3-b5d3ce2dde56e58d039f1a3e47cc4e4a/views/imgo\n",
      "10:56_AM\n",
      "https://as-prod.asyncgw.teams.microsoft.com/v1/objects/0-sin-d2-eb34d8921523ef29ca2cdf581d57a07b/views/imgo\n",
      "10:59_AM\n",
      "https://as-prod.asyncgw.teams.microsoft.com/v1/objects/0-sin-d2-0978f1ee051396ead9511cf42d04c371/views/imgo\n",
      "11:02_AM\n",
      "https://as-prod.asyncgw.teams.microsoft.com/v1/objects/0-sin-d3-bab432cdb37702782f753609c83a8e56/views/imgo\n",
      "11:06_AM\n",
      "https://as-prod.asyncgw.teams.microsoft.com/v1/objects/0-sin-d4-0400549d58cdc912304cd83d32d93695/views/imgo\n",
      "list index out of range\n",
      "11:07_AM\n",
      "https://as-prod.asyncgw.teams.microsoft.com/v1/objects/0-cin-d1-207c629879496f5729625d9d4590c2c5/views/imgo\n",
      "11:08_AM\n",
      "https://as-prod.asyncgw.teams.microsoft.com/v1/objects/0-sin-d2-51476f90b77ce74ffb19416c04149efb/views/imgo\n",
      "list index out of range\n",
      "11:12_AM\n",
      "https://as-prod.asyncgw.teams.microsoft.com/v1/objects/0-sin-d4-ff5fbcfaf15d0dc106319100f05a2500/views/imgo\n",
      "list index out of range\n",
      "11:13_AM\n",
      "https://as-prod.asyncgw.teams.microsoft.com/v1/objects/0-sin-d3-32237aa6c439034535182ae16e320280/views/imgo\n",
      "list index out of range\n",
      "11:14_AM\n",
      "https://as-prod.asyncgw.teams.microsoft.com/v1/objects/0-sin-d4-6dd7508ac195e43d6de59867e718e5fa/views/imgo\n",
      "11:15_AM\n",
      "https://as-prod.asyncgw.teams.microsoft.com/v1/objects/0-cin-d3-2f118a4fee30dc02f7a8887861f04c25/views/imgo\n",
      "11:16_AM\n",
      "https://as-prod.asyncgw.teams.microsoft.com/v1/objects/0-sin-d1-c803179e1e164b165b08a6b6e9d323f7/views/imgo\n",
      "11:17_AM\n",
      "https://as-prod.asyncgw.teams.microsoft.com/v1/objects/0-sin-d4-13eb7de3fa479f3f69328ffa16b685b2/views/imgo\n",
      "11:20_AM\n",
      "https://as-prod.asyncgw.teams.microsoft.com/v1/objects/0-sin-d4-acce340df24a5f991ad20eba661ef08f/views/imgo\n",
      "list index out of range\n",
      "11:59_AM\n",
      "https://as-prod.asyncgw.teams.microsoft.com/v1/objects/0-sin-d2-c1dab2dfc8bd398fd361c3dcbe566f62/views/imgo\n",
      "11:59_AM\n",
      "https://as-prod.asyncgw.teams.microsoft.com/v1/objects/0-sin-d2-c0c2d5e25788ea0cc67a4b705be0fdc6/views/imgo\n",
      "list index out of range\n",
      "list index out of range\n",
      "list index out of range\n",
      "list index out of range\n",
      "list index out of range\n",
      "list index out of range\n",
      "list index out of range\n",
      "list index out of range\n",
      "list index out of range\n",
      "list index out of range\n",
      "list index out of range\n",
      "list index out of range\n",
      "list index out of range\n",
      "list index out of range\n",
      "list index out of range\n",
      "list index out of range\n",
      "list index out of range\n",
      "list index out of range\n",
      "list index out of range\n",
      "9:31_AM\n",
      "https://as-prod.asyncgw.teams.microsoft.com/v1/objects/0-sin-d3-96903d7e5a7620137f7709447fef5e9b/views/imgo\n",
      "9:31_AM\n",
      "https://as-prod.asyncgw.teams.microsoft.com/v1/objects/0-sin-d2-0c37d6cecd32dfbf89d344069d09bafd/views/imgo\n",
      "9:31_AM\n",
      "https://as-prod.asyncgw.teams.microsoft.com/v1/objects/0-cin-d2-3cc3a921479be042c5137a4e84ad693f/views/imgo\n",
      "9:33_AM\n",
      "https://as-prod.asyncgw.teams.microsoft.com/v1/objects/0-cin-d3-8218167158e9d5b4b557cbcb5c473ef7/views/imgo\n",
      "9:34_AM\n",
      "https://as-prod.asyncgw.teams.microsoft.com/v1/objects/0-sin-d3-9b16d36448f9cf0ac26da6747bf69da6/views/imgo\n",
      "'aria-label'\n",
      "10:06_AM\n",
      "https://as-prod.asyncgw.teams.microsoft.com/v1/objects/0-sin-d1-d4479d28ce89237318f4be1cdd523ee6/views/imgo\n",
      "10:07_AM\n",
      "https://as-prod.asyncgw.teams.microsoft.com/v1/objects/0-cin-d3-4baf38208d704cf8b612d7696f1a0823/views/imgo\n",
      "10:07_AM\n",
      "https://as-prod.asyncgw.teams.microsoft.com/v1/objects/0-cin-d4-943cc91027274218f794937a4a9ed6c7/views/imgo\n",
      "10:07_AM\n",
      "https://as-prod.asyncgw.teams.microsoft.com/v1/objects/0-cin-d1-afb4ebebcd1d99f7f288fbe1ea9e94c9/views/imgo\n",
      "10:07_AM\n",
      "https://as-prod.asyncgw.teams.microsoft.com/v1/objects/0-cin-d1-c95730e1d76f3d44c23308bf82c7c0fa/views/imgo\n",
      "10:08_AM\n",
      "https://as-prod.asyncgw.teams.microsoft.com/v1/objects/0-sin-d2-df4b0f1e61892437134c68dd336de883/views/imgo\n",
      "10:17_AM\n",
      "https://as-prod.asyncgw.teams.microsoft.com/v1/objects/0-cin-d1-d8400d1fc4b744aa09be366ec4ad784c/views/imgo\n",
      "'aria-label'\n",
      "10:22_AM\n",
      "https://as-prod.asyncgw.teams.microsoft.com/v1/objects/0-sin-d2-6f5f2d02a424fc92418dc259c8f20712/views/imgo\n",
      "10:22_AM\n",
      "https://as-prod.asyncgw.teams.microsoft.com/v1/objects/0-sin-d4-f9c15a71e27a3265f8338afc56abd4a2/views/imgo\n",
      "10:26_AM\n",
      "https://as-prod.asyncgw.teams.microsoft.com/v1/objects/0-sin-d4-24f28c791872ad948c5fb1ec5368c5b9/views/imgo\n",
      "10:30_AM\n",
      "https://as-prod.asyncgw.teams.microsoft.com/v1/objects/0-cin-d2-590009087347c033aa79e76f62a36d8d/views/imgo\n",
      "10:32_AM\n",
      "https://as-prod.asyncgw.teams.microsoft.com/v1/objects/0-cin-d1-ee4e363072d0120135141d43c27a8c05/views/imgo\n",
      "10:33_AM\n",
      "https://as-prod.asyncgw.teams.microsoft.com/v1/objects/0-sin-d1-69831a22a774dd026701e4620d0dc6c6/views/imgo\n",
      "10:52_AM\n",
      "https://as-prod.asyncgw.teams.microsoft.com/v1/objects/0-cin-d3-494faf99ead46161acce2f1735ce8a58/views/imgo\n",
      "10:52_AM\n",
      "https://as-prod.asyncgw.teams.microsoft.com/v1/objects/0-sin-d1-6140dbd06229d62b7e0c3c09f550b633/views/imgo\n",
      "10:53_AM\n",
      "https://as-prod.asyncgw.teams.microsoft.com/v1/objects/0-sin-d3-4a6300e991b4fa5a5dd8b501cc409c60/views/imgo\n",
      "10:54_AM\n",
      "https://as-prod.asyncgw.teams.microsoft.com/v1/objects/0-cin-d4-b141b497a0d88f9bfcc747e4f94daf5a/views/imgo\n",
      "10:58_AM\n",
      "https://as-prod.asyncgw.teams.microsoft.com/v1/objects/0-sin-d4-456551a615a5aa86c58f31adc175bd3d/views/imgo\n",
      "11:00_AM\n",
      "https://as-prod.asyncgw.teams.microsoft.com/v1/objects/0-sin-d2-a9f68f025a317e80a83249cd76663530/views/imgo\n",
      "11:05_AM\n",
      "https://as-prod.asyncgw.teams.microsoft.com/v1/objects/0-cin-d4-322050a1aec77c5387609aa64a8e70be/views/imgo\n",
      "11:26_AM\n",
      "https://as-prod.asyncgw.teams.microsoft.com/v1/objects/0-cin-d3-4ab1e94bda47f6f1f1ece1a488408d35/views/imgo\n",
      "list index out of range\n",
      "11:30_AM\n",
      "https://as-prod.asyncgw.teams.microsoft.com/v1/objects/0-sin-d2-33df0290e41c45d0e62768b2ac4a5955/views/imgo\n",
      "11:33_AM\n",
      "https://as-prod.asyncgw.teams.microsoft.com/v1/objects/0-sin-d4-d6953485ba8410c27405063bb3c12997/views/imgo\n",
      "11:37_AM\n",
      "https://as-prod.asyncgw.teams.microsoft.com/v1/objects/0-sin-d1-b310edaaf6791c74c16845ba313055ce/views/imgo\n",
      "11:41_AM\n",
      "https://as-prod.asyncgw.teams.microsoft.com/v1/objects/0-sin-d1-7a9d258ccdc473c7b32269bcc6df6ec3/views/imgo\n",
      "11:43_AM\n",
      "https://as-prod.asyncgw.teams.microsoft.com/v1/objects/0-sin-d3-2ad1ea94e5762adf985e54617ea973a5/views/imgo\n",
      "11:45_AM\n",
      "https://as-prod.asyncgw.teams.microsoft.com/v1/objects/0-sin-d1-f4004dc01e4b7759e767dec28863425c/views/imgo\n",
      "11:50_AM\n",
      "https://as-prod.asyncgw.teams.microsoft.com/v1/objects/0-sin-d1-79f101b20789e481a44643f2cab58b23/views/imgo\n",
      "11:52_AM\n",
      "https://as-prod.asyncgw.teams.microsoft.com/v1/objects/0-cin-d4-e037f809e8fca765f13b1c42281bb8b9/views/imgo\n",
      "11:56_AM\n",
      "https://as-prod.asyncgw.teams.microsoft.com/v1/objects/0-sin-d1-2d723aba9454133baaa8f0b903b7ba56/views/imgo\n",
      "12:01_PM\n",
      "https://as-prod.asyncgw.teams.microsoft.com/v1/objects/0-cin-d3-b90b8c487646f3943655ea0ad1bb7d72/views/imgo\n",
      "117\n"
     ]
    }
   ],
   "source": [
    "c=0\n",
    "dates=[]\n",
    "sentTime=[]\n",
    "sentBy=[]\n",
    "imageUrls=[]\n",
    "for chat in allchats:\n",
    "    try:\n",
    "        split_day_time=chat.select('div.timestamp-column')[0].get_text().strip('\\n').split()\n",
    "        today=datetime.datetime.now()\n",
    "        date=today.strftime(\"%d_%m_%y\")\n",
    "        day=today.strftime(\"%A\")\n",
    "#         print(split_day_time[1])\n",
    "#         print(day_number.values)\n",
    "        if len(split_day_time)==3:\n",
    "            pass\n",
    "        elif split_day_time[1] in day_number.keys():\n",
    "            diff=day_number[day]-day_number[split_day_time[1]]\n",
    "#             a if condition else b\n",
    "            diff=diff if diff>0 else 7+diff\n",
    "            date=(today-datetime.timedelta(days=diff)).strftime(\"%d_%m_%y\")\n",
    "        elif split_day_time[1]=='Yesterday':\n",
    "            date=(today-datetime.timedelta(days=1)).strftime(\"%d_%m_%y\")\n",
    "        else:\n",
    "            month,day=split_day_time[1].split(',')[0].split('/')\n",
    "            month=month if int(month)>9 else '0'+str(int(month))\n",
    "            day=day if int(day)>9 else '0'+str(int(day))\n",
    "            date=day+'_'+month+'_'+'22'\n",
    "        \n",
    "        sentby=\" \".join(chat.select('div.ts-msg-name.app-small-font')[0].get_text().split()).split('[')[0]\n",
    "        if chat.select('a')[0]['aria-label']=='Image':\n",
    "            imageURL=(chat.select('a')[0]['href'])    \n",
    "        else:\n",
    "            pass\n",
    "        dates.append(date)\n",
    "        sent_at_time=split_day_time[-2]+'_'+split_day_time[-1]\n",
    "        sentTime.append(sent_at_time)\n",
    "        sentBy.append(sentby)\n",
    "        imageUrls.append(imageURL)\n",
    "        c+=1\n",
    "        print(sent_at_time)\n",
    "        print(imageURL)\n",
    "    except Exception as e:\n",
    "        print(e)\n",
    "print(c)"
   ]
  },
  {
   "cell_type": "code",
   "execution_count": 62,
   "metadata": {
    "scrolled": true
   },
   "outputs": [
    {
     "data": {
      "text/plain": [
       "117"
      ]
     },
     "execution_count": 62,
     "metadata": {},
     "output_type": "execute_result"
    }
   ],
   "source": [
    "c\n",
    "dates[0]+dates[-1]\n",
    "len(sentTime)\n",
    "# sentBy\n",
    "# imageUrls"
   ]
  },
  {
   "cell_type": "markdown",
   "metadata": {},
   "source": [
    "# Filter the images provided by faculty at date 4-2-22"
   ]
  },
  {
   "cell_type": "code",
   "execution_count": 74,
   "metadata": {
    "scrolled": true
   },
   "outputs": [
    {
     "data": {
      "text/plain": [
       "36"
      ]
     },
     "execution_count": 74,
     "metadata": {},
     "output_type": "execute_result"
    }
   ],
   "source": [
    "chatlist=[]\n",
    "chatlist=[x for x in zip(dates,sentTime,sentBy,imageUrls)]\n",
    "which_data='07_02_22'\n",
    "chatlist_faculty=list(filter(lambda x: 'Faculty' in x[2] and which_data in x[0], chatlist))\n",
    "len(chatlist_faculty)"
   ]
  },
  {
   "cell_type": "code",
   "execution_count": 75,
   "metadata": {},
   "outputs": [],
   "source": [
    "import pyperclip as pc\n",
    "import pyautogui\n",
    "from selenium.webdriver import ActionChains "
   ]
  },
  {
   "cell_type": "markdown",
   "metadata": {},
   "source": [
    "# Download the images and save them in a folder"
   ]
  },
  {
   "cell_type": "code",
   "execution_count": 76,
   "metadata": {},
   "outputs": [
    {
     "name": "stderr",
     "output_type": "stream",
     "text": [
      "C:\\ProgramData\\Anaconda3\\lib\\site-packages\\ipykernel_launcher.py:6: DeprecationWarning: use driver.switch_to.window instead\n",
      "  \n",
      "C:\\ProgramData\\Anaconda3\\lib\\site-packages\\ipykernel_launcher.py:30: DeprecationWarning: use driver.switch_to.window instead\n"
     ]
    }
   ],
   "source": [
    "time.sleep(2)\n",
    "c=0\n",
    "# ig_no=1080\n",
    "for chat in chatlist_faculty:\n",
    "    browser.execute_script(\"window.open('','new_window');\")\n",
    "    browser.switch_to_window(browser.window_handles[-1])    \n",
    "    browser.get(chat[3])\n",
    "    actionChain = ActionChains(browser)\n",
    "    e = browser.find_element_by_css_selector('img')\n",
    "    actionChain.context_click(e).perform()\n",
    "    pyautogui.typewrite(['down','down','enter'])\n",
    "    time.sleep(2)\n",
    "    image_name=('image_at'+chat[1]).replace(':','_')+'_'+uuid.uuid4().hex.upper()[0:6]\n",
    "    pc.copy(image_name)\n",
    "    # pyautogui.hotkey('ctrl', 'l')\n",
    "    pyautogui.hotkey('ctrl', 'v')\n",
    "    if(c==0):\n",
    "        pc.copy(r\"C:/Users/pavan/teamsImageExtractor/pptimages/\")\n",
    "        pyautogui.hotkey('ctrl', 'l')\n",
    "        pyautogui.hotkey('ctrl', 'v')\n",
    "        pyautogui.typewrite(['enter'])\n",
    "        pyautogui.typewrite(['enter'])\n",
    "        pyautogui.typewrite(['enter'])\n",
    "        time.sleep(2)\n",
    "    pyautogui.typewrite(['enter'])\n",
    "    # pyautogui.typewrite(['enter'])\n",
    "    # elem\n",
    "#     ig_no+=1\n",
    "    c+=1\n",
    "    browser.switch_to_window(browser.window_handles[0])    \n",
    "    if c==40:\n",
    "        break\n"
   ]
  },
  {
   "cell_type": "markdown",
   "metadata": {},
   "source": [
    "# Creating a power point of the images in that particular timeline "
   ]
  },
  {
   "cell_type": "code",
   "execution_count": 81,
   "metadata": {},
   "outputs": [],
   "source": [
    "prs=Presentation()"
   ]
  },
  {
   "cell_type": "markdown",
   "metadata": {},
   "source": [
    "# First slide of PPT"
   ]
  },
  {
   "cell_type": "code",
   "execution_count": 82,
   "metadata": {},
   "outputs": [],
   "source": [
    "first_slide_layout= prs.slide_layouts[0]\n",
    "init_slide=prs.slides.add_slide(first_slide_layout)\n",
    "\n",
    "title=init_slide.shapes.title # assigning a title\n",
    "subtitle=init_slide.placeholders[1] # placeholder for subtitle\n",
    "title.text=\"Teams chat images on \"+which_data+\" Auto generated \" # title\n",
    "subtitle.text=\"At your hand\" # subtitle\n"
   ]
  },
  {
   "cell_type": "code",
   "execution_count": 88,
   "metadata": {},
   "outputs": [],
   "source": [
    "from os import listdir\n",
    "from os.path import abspath,join,isfile\n",
    "# os.listdir('./pptimages')\n",
    "Files_for_ppt=[join(abspath('./pptimages'),f) for f in listdir('./pptimages') if isfile(join(abspath('./pptimages'),f))]\n",
    "# Files_for_ppt"
   ]
  },
  {
   "cell_type": "code",
   "execution_count": 89,
   "metadata": {},
   "outputs": [
    {
     "data": {
      "text/plain": [
       "['C:\\\\Users\\\\pavan\\\\teamsImageExtractor\\\\pptimages\\\\image_at10_06_AM_20F034.jpg',\n",
       " 'C:\\\\Users\\\\pavan\\\\teamsImageExtractor\\\\pptimages\\\\image_at10_07_AM_0F87FB.jpg',\n",
       " 'C:\\\\Users\\\\pavan\\\\teamsImageExtractor\\\\pptimages\\\\image_at10_07_AM_31651B.jpg',\n",
       " 'C:\\\\Users\\\\pavan\\\\teamsImageExtractor\\\\pptimages\\\\image_at10_07_AM_35016F.jpg',\n",
       " 'C:\\\\Users\\\\pavan\\\\teamsImageExtractor\\\\pptimages\\\\image_at10_07_AM_38BB53.jpg',\n",
       " 'C:\\\\Users\\\\pavan\\\\teamsImageExtractor\\\\pptimages\\\\image_at10_08_AM_6735BB.jpg',\n",
       " 'C:\\\\Users\\\\pavan\\\\teamsImageExtractor\\\\pptimages\\\\image_at10_17_AM_58DFA2.jpg',\n",
       " 'C:\\\\Users\\\\pavan\\\\teamsImageExtractor\\\\pptimages\\\\image_at10_22_AM_C59E0E.jpg',\n",
       " 'C:\\\\Users\\\\pavan\\\\teamsImageExtractor\\\\pptimages\\\\image_at10_22_AM_D0BC99.jpg',\n",
       " 'C:\\\\Users\\\\pavan\\\\teamsImageExtractor\\\\pptimages\\\\image_at10_26_AM_38A86B.jpg',\n",
       " 'C:\\\\Users\\\\pavan\\\\teamsImageExtractor\\\\pptimages\\\\image_at10_30_AM_1A036C.jpg',\n",
       " 'C:\\\\Users\\\\pavan\\\\teamsImageExtractor\\\\pptimages\\\\image_at10_32_AM_591841.jpg',\n",
       " 'C:\\\\Users\\\\pavan\\\\teamsImageExtractor\\\\pptimages\\\\image_at10_33_AM_8306E6.jpg',\n",
       " 'C:\\\\Users\\\\pavan\\\\teamsImageExtractor\\\\pptimages\\\\image_at10_52_AM_4C0466.jpg',\n",
       " 'C:\\\\Users\\\\pavan\\\\teamsImageExtractor\\\\pptimages\\\\image_at10_52_AM_7377D1.jpg',\n",
       " 'C:\\\\Users\\\\pavan\\\\teamsImageExtractor\\\\pptimages\\\\image_at10_53_AM_514004.jpg',\n",
       " 'C:\\\\Users\\\\pavan\\\\teamsImageExtractor\\\\pptimages\\\\image_at10_54_AM_E5EB22.jpg',\n",
       " 'C:\\\\Users\\\\pavan\\\\teamsImageExtractor\\\\pptimages\\\\image_at10_58_AM_D16993.jpg',\n",
       " 'C:\\\\Users\\\\pavan\\\\teamsImageExtractor\\\\pptimages\\\\image_at11_00_AM_A13F87.jpg',\n",
       " 'C:\\\\Users\\\\pavan\\\\teamsImageExtractor\\\\pptimages\\\\image_at11_05_AM_38E553.jpg',\n",
       " 'C:\\\\Users\\\\pavan\\\\teamsImageExtractor\\\\pptimages\\\\image_at11_26_AM_D3DF7D.jpg',\n",
       " 'C:\\\\Users\\\\pavan\\\\teamsImageExtractor\\\\pptimages\\\\image_at11_30_AM_7B5684.jpg',\n",
       " 'C:\\\\Users\\\\pavan\\\\teamsImageExtractor\\\\pptimages\\\\image_at11_33_AM_D86128.jpg',\n",
       " 'C:\\\\Users\\\\pavan\\\\teamsImageExtractor\\\\pptimages\\\\image_at11_37_AM_A946C8.jpg',\n",
       " 'C:\\\\Users\\\\pavan\\\\teamsImageExtractor\\\\pptimages\\\\image_at11_41_AM_E6A3F1.jpg',\n",
       " 'C:\\\\Users\\\\pavan\\\\teamsImageExtractor\\\\pptimages\\\\image_at11_43_AM_B22D81.jpg',\n",
       " 'C:\\\\Users\\\\pavan\\\\teamsImageExtractor\\\\pptimages\\\\image_at11_45_AM_82450C.jpg',\n",
       " 'C:\\\\Users\\\\pavan\\\\teamsImageExtractor\\\\pptimages\\\\image_at11_50_AM_D5F68D.jpg',\n",
       " 'C:\\\\Users\\\\pavan\\\\teamsImageExtractor\\\\pptimages\\\\image_at11_52_AM_BB3705.jpg',\n",
       " 'C:\\\\Users\\\\pavan\\\\teamsImageExtractor\\\\pptimages\\\\image_at11_56_AM_5A1393.jpg',\n",
       " 'C:\\\\Users\\\\pavan\\\\teamsImageExtractor\\\\pptimages\\\\image_at12_01_PM_AD2E63.jpg',\n",
       " 'C:\\\\Users\\\\pavan\\\\teamsImageExtractor\\\\pptimages\\\\image_at9_31_AM_248E28.jpg',\n",
       " 'C:\\\\Users\\\\pavan\\\\teamsImageExtractor\\\\pptimages\\\\image_at9_31_AM_50ECD0.jpg',\n",
       " 'C:\\\\Users\\\\pavan\\\\teamsImageExtractor\\\\pptimages\\\\image_at9_31_AM_CD1A4F.jpg',\n",
       " 'C:\\\\Users\\\\pavan\\\\teamsImageExtractor\\\\pptimages\\\\image_at9_33_AM_6E7E2A.jpg',\n",
       " 'C:\\\\Users\\\\pavan\\\\teamsImageExtractor\\\\pptimages\\\\image_at9_34_AM_3F1D93.jpg']"
      ]
     },
     "execution_count": 89,
     "metadata": {},
     "output_type": "execute_result"
    }
   ],
   "source": [
    "Files_for_ppt"
   ]
  },
  {
   "cell_type": "code",
   "execution_count": 84,
   "metadata": {},
   "outputs": [
    {
     "ename": "NameError",
     "evalue": "name 'image' is not defined",
     "output_type": "error",
     "traceback": [
      "\u001b[1;31m---------------------------------------------------------------------------\u001b[0m",
      "\u001b[1;31mNameError\u001b[0m                                 Traceback (most recent call last)",
      "\u001b[1;32m<ipython-input-84-aac5e8cabff0>\u001b[0m in \u001b[0;36m<module>\u001b[1;34m()\u001b[0m\n\u001b[1;32m----> 1\u001b[1;33m \u001b[0mleft\u001b[0m \u001b[1;33m=\u001b[0m \u001b[1;33m(\u001b[0m\u001b[0mprs\u001b[0m\u001b[1;33m.\u001b[0m\u001b[0mslide_width\u001b[0m \u001b[1;33m-\u001b[0m \u001b[0mimage\u001b[0m\u001b[1;33m.\u001b[0m\u001b[0mwidth\u001b[0m\u001b[1;33m)\u001b[0m \u001b[1;33m/\u001b[0m \u001b[1;36m2\u001b[0m\u001b[1;33m\u001b[0m\u001b[0m\n\u001b[0m",
      "\u001b[1;31mNameError\u001b[0m: name 'image' is not defined"
     ]
    }
   ],
   "source": [
    "left = (prs.slide_width - image.width) / 2"
   ]
  },
  {
   "cell_type": "code",
   "execution_count": 85,
   "metadata": {},
   "outputs": [],
   "source": [
    "# os.chdir('./pptimages')\n",
    "for file_path in Files_for_ppt:\n",
    "    blank_slide_layout = prs.slide_layouts[6]\n",
    "    slide = prs.slides.add_slide(blank_slide_layout)\n",
    "    left=Inches(1)\n",
    "    top=Inches(0.5)\n",
    "#     print(abspath(file_path))\n",
    "#     path='./pptimages'+file_path\n",
    "    slide.shapes.add_picture(file_path,left,top)\n",
    "# os.chdir('../')\n",
    "save_ppt=\"teams_chat_images_at_\"+which_data+\".pptx\"\n",
    "prs.save(save_ppt)"
   ]
  },
  {
   "cell_type": "code",
   "execution_count": null,
   "metadata": {},
   "outputs": [],
   "source": []
  }
 ],
 "metadata": {
  "kernelspec": {
   "display_name": "Python 3",
   "language": "python",
   "name": "python3"
  },
  "language_info": {
   "codemirror_mode": {
    "name": "ipython",
    "version": 3
   },
   "file_extension": ".py",
   "mimetype": "text/x-python",
   "name": "python",
   "nbconvert_exporter": "python",
   "pygments_lexer": "ipython3",
   "version": "3.6.4"
  }
 },
 "nbformat": 4,
 "nbformat_minor": 2
}
