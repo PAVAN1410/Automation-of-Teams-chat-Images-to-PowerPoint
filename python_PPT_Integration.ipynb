{
 "cells": [
  {
   "cell_type": "code",
   "execution_count": 34,
   "metadata": {},
   "outputs": [],
   "source": [
    "from pptx import Presentation"
   ]
  },
  {
   "cell_type": "code",
   "execution_count": 35,
   "metadata": {},
   "outputs": [],
   "source": [
    "from pptx.util import Inches"
   ]
  },
  {
   "cell_type": "code",
   "execution_count": 44,
   "metadata": {},
   "outputs": [],
   "source": [
    "prs=Presentation()"
   ]
  },
  {
   "cell_type": "code",
   "execution_count": 45,
   "metadata": {},
   "outputs": [],
   "source": [
    "# prs.slide_width = Inches(16)\n",
    "# prs.slide_height = Inches(9)"
   ]
  },
  {
   "cell_type": "code",
   "execution_count": 46,
   "metadata": {},
   "outputs": [],
   "source": [
    "first_slide_layout= prs.slide_layouts[0]\n",
    "init_slide=prs.slides.add_slide(first_slide_layout)\n",
    "\n",
    "title=init_slide.shapes.title # assigning a title\n",
    "subtitle=init_slide.placeholders[1] # placeholder for subtitle\n",
    "title.text=\"Teams chat images\" # title\n",
    "subtitle.text=\"At your hand\" # subtitle\n"
   ]
  },
  {
   "cell_type": "code",
   "execution_count": 47,
   "metadata": {},
   "outputs": [],
   "source": [
    "blank_slide_layout = prs.slide_layouts[6]\n",
    "slide = prs.slides.add_slide(blank_slide_layout)\n",
    "slide2 = prs.slides.add_slide(blank_slide_layout)"
   ]
  },
  {
   "cell_type": "code",
   "execution_count": 48,
   "metadata": {},
   "outputs": [],
   "source": [
    "left=Inches(1)\n",
    "top=Inches(0.5)"
   ]
  },
  {
   "cell_type": "code",
   "execution_count": 49,
   "metadata": {},
   "outputs": [],
   "source": [
    "path=r\"C:\\Users\\pavan\\teamsImageExtractor\\pptimages\\image_at10_18_AM_23B4D1.jpg\"\n",
    "path2=r\"C:\\Users\\pavan\\teamsImageExtractor\\pptimages\\image_at10_19_AM_0A3C36.jpg\""
   ]
  },
  {
   "cell_type": "code",
   "execution_count": 50,
   "metadata": {},
   "outputs": [
    {
     "data": {
      "text/plain": [
       "<pptx.shapes.picture.Picture at 0x2175b7cc160>"
      ]
     },
     "execution_count": 50,
     "metadata": {},
     "output_type": "execute_result"
    }
   ],
   "source": [
    "slide.shapes.add_picture(path,left,top)\n",
    "slide2.shapes.add_picture(path2,left,top)\n"
   ]
  },
  {
   "cell_type": "code",
   "execution_count": 51,
   "metadata": {},
   "outputs": [],
   "source": [
    "prs.save(\"3image.pptx\") "
   ]
  },
  {
   "cell_type": "code",
   "execution_count": null,
   "metadata": {},
   "outputs": [],
   "source": [
    "classesContainer=browser.find_element_by_class_name('stv-item-container')\n",
    "\n",
    "classesContainer.click()\n",
    "\n",
    "chatBlock=browser.find_elements_by_class_name('ts-message-list-item')"
   ]
  }
 ],
 "metadata": {
  "kernelspec": {
   "display_name": "Python 3",
   "language": "python",
   "name": "python3"
  },
  "language_info": {
   "codemirror_mode": {
    "name": "ipython",
    "version": 3
   },
   "file_extension": ".py",
   "mimetype": "text/x-python",
   "name": "python",
   "nbconvert_exporter": "python",
   "pygments_lexer": "ipython3",
   "version": "3.6.4"
  }
 },
 "nbformat": 4,
 "nbformat_minor": 2
}
